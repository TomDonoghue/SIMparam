{
 "cells": [
  {
   "cell_type": "markdown",
   "metadata": {},
   "source": [
    "# Method Comparisons: BOSC\n",
    "\n",
    "Comparing FOOOF to other related methods.\n",
    "\n",
    "This notebook compares FOOOF to [BOSC](https://www.sciencedirect.com/science/article/abs/pii/S1053811910011614), \n",
    "the 'Better Oscillation Detector'. \n",
    "\n",
    "Note that FOOOF and BOSC are related in the sense that both use a measure of aperiodic activity to isolate periodic activity, but otherwise they are overall fairly different methods. Notably, BOSC uses an aperiodic measure as a threshold to attempt to measure the relative power of oscillations in the time domain, whereas FOOOF operates in the frequency domain. In this notebook we will compare FOOOF to the aperiodic measure that BOSC uses - a linear fit in log-log space, as this is the most direct comparison that can be made. For a discussion on the differences between the methods, see the notes in the manuscript."
   ]
  },
  {
   "cell_type": "code",
   "execution_count": 1,
   "metadata": {},
   "outputs": [],
   "source": [
    "%matplotlib inline"
   ]
  },
  {
   "cell_type": "code",
   "execution_count": 2,
   "metadata": {},
   "outputs": [],
   "source": [
    "from os.path import join as pjoin\n",
    "\n",
    "import numpy as np\n",
    "from scipy.stats import ttest_rel\n",
    "\n",
    "from fooof import FOOOF\n",
    "from fooof.sim import gen_group_power_spectra\n",
    "from fooof.sim.utils import set_random_seed"
   ]
  },
  {
   "cell_type": "code",
   "execution_count": 3,
   "metadata": {},
   "outputs": [],
   "source": [
    "# Import project specific (local) custom code\n",
    "import sys\n",
    "sys.path.append('../code')\n",
    "from plts import plot_errors_violin\n",
    "from sims import gen_peak_def, gen_peaks_both, gen_ap_def, gen_ap_knee_def\n",
    "from utils import save_sim_data, load_sim_data\n",
    "from analysis import cohens_d\n",
    "from settings import *"
   ]
  },
  {
   "cell_type": "markdown",
   "metadata": {},
   "source": [
    "## Settings"
   ]
  },
  {
   "cell_type": "code",
   "execution_count": 4,
   "metadata": {},
   "outputs": [],
   "source": [
    "# Set random seed\n",
    "set_random_seed(505)"
   ]
  },
  {
   "cell_type": "code",
   "execution_count": 5,
   "metadata": {},
   "outputs": [],
   "source": [
    "# Set plotting style from seaborn\n",
    "import seaborn as sns\n",
    "sns.set_style('white')"
   ]
  },
  {
   "cell_type": "code",
   "execution_count": 6,
   "metadata": {},
   "outputs": [],
   "source": [
    "# Set a folder name (for saving data & figures)\n",
    "FOLDER = '07_comp-bosc/'"
   ]
  },
  {
   "cell_type": "code",
   "execution_count": 7,
   "metadata": {},
   "outputs": [],
   "source": [
    "# Run Settings\n",
    "GEN_SIMS = True\n",
    "SAVE_SIMS = True\n",
    "SAVE_FIG = True\n",
    "PLT_LOG = True"
   ]
  },
  {
   "cell_type": "code",
   "execution_count": 8,
   "metadata": {},
   "outputs": [],
   "source": [
    "# Analysis settings\n",
    "avg_func = np.median"
   ]
  },
  {
   "cell_type": "code",
   "execution_count": 9,
   "metadata": {},
   "outputs": [],
   "source": [
    "# Data settings\n",
    "n_psds = N_PSDS\n",
    "YLIMS = [-5., 0.15]\n",
    "F_RANGE_LONG = [1, 150]"
   ]
  },
  {
   "cell_type": "markdown",
   "metadata": {},
   "source": [
    "## Helper Functions"
   ]
  },
  {
   "cell_type": "code",
   "execution_count": 10,
   "metadata": {},
   "outputs": [],
   "source": [
    "# Fixed fit function\n",
    "from scipy.optimize import curve_fit\n",
    "from fooof.core.funcs import linear_function\n",
    "def fit_ap_ln(freqs, psd_ap):\n",
    "    \"\"\"Fit an aperiodic component with a linear function.\"\"\"\n",
    "    popt, _ = curve_fit(linear_function, np.log10(freqs), np.log10(psd_ap), p0=[0, 0])\n",
    "    return popt[0], popt[1]"
   ]
  },
  {
   "cell_type": "code",
   "execution_count": 11,
   "metadata": {},
   "outputs": [],
   "source": [
    "def fit_all_lin(freqs, psds, sim_params, knee=False):\n",
    "    \"\"\"Fit and compute error with a linear fit.\"\"\"\n",
    "\n",
    "    ind = 2 if knee else 1\n",
    "    \n",
    "    errs = []\n",
    "    for psd, params in zip(psds, sim_params):\n",
    "        off, exp = fit_ap_ln(freqs, psd)\n",
    "        errs.append(np.abs(-exp - params.aperiodic_params[ind]))\n",
    "    return errs\n",
    "\n",
    "\n",
    "def fit_all_fooof(freqs, psds, sim_params, knee=False):\n",
    "    \"\"\"Fit and compute error with FOOOF.\"\"\"\n",
    "\n",
    "    settings = FOOOF_SETTINGS_KNEE if knee else FOOOF_SETTINGS\n",
    "    ind = 2 if knee else 1\n",
    "    fm = FOOOF(*settings, verbose=False)\n",
    "    \n",
    "    errs = []\n",
    "    for psd, params in zip(psds, sim_params):\n",
    "        fm.fit(freqs, psd)\n",
    "        errs.append(np.abs(fm.aperiodic_params_[ind] - params.aperiodic_params[ind]))\n",
    "    return errs"
   ]
  },
  {
   "cell_type": "markdown",
   "metadata": {},
   "source": [
    "## Sims: One Peak\n",
    "\n",
    "Simulations testing FOOOF vs. the BOSC linear fit, with one peak across a low frequency range (no knee)."
   ]
  },
  {
   "cell_type": "code",
   "execution_count": 12,
   "metadata": {},
   "outputs": [
    {
     "name": "stdout",
     "output_type": "stream",
     "text": [
      "n_spectra, n_freqs :  (1000, 153)\n"
     ]
    }
   ],
   "source": [
    "# Generate or load power spectra\n",
    "data_name = 'comp_bosc_1p'\n",
    "\n",
    "if GEN_SIMS:\n",
    "    \n",
    "    # Use generators to sample peak & aperiodic parameters\n",
    "    aps = gen_ap_def()\n",
    "    peaks = gen_peak_def(1)\n",
    "    \n",
    "    # Generate simulated power spectra\n",
    "    freqs, psds, sim_params = \\\n",
    "        gen_group_power_spectra(n_psds, F_RANGE, aps, peaks, NLV,\n",
    "                                F_RES, return_params=True)\n",
    "    \n",
    "    # Save out generated simulated data & parameter definitions\n",
    "    if SAVE_SIMS:\n",
    "        save_sim_data(data_name, FOLDER, freqs, psds, sim_params)\n",
    "\n",
    "else:\n",
    "    # Reload simulated data and parameter definitions\n",
    "    freqs, psds, sim_params = load_sim_data(data_name, FOLDER)\n",
    "        \n",
    "# Check shape\n",
    "print('n_spectra, n_freqs : ', psds.shape)"
   ]
  },
  {
   "cell_type": "code",
   "execution_count": 13,
   "metadata": {},
   "outputs": [],
   "source": [
    "# Calculate error of each method for exponent reconstructions\n",
    "lin_errs_1p = fit_all_lin(freqs, psds, sim_params)\n",
    "foo_errs_1p = fit_all_fooof(freqs, psds, sim_params)\n",
    "\n",
    "# Collect errors together, for plotting\n",
    "errs_1p = np.array([lin_errs_1p, foo_errs_1p])"
   ]
  },
  {
   "cell_type": "code",
   "execution_count": 14,
   "metadata": {},
   "outputs": [
    {
     "data": {
      "image/png": "[encoded data removed]",
      "text/plain": [
       "<Figure size 576x432 with 1 Axes>"
      ]
     },
     "metadata": {},
     "output_type": "display_data"
    }
   ],
   "source": [
    "# Plot the error of peak center frequency reconstruction\n",
    "plot_errors_violin(errs_1p, 'BOSC-1P', x_axis=None,\n",
    "                   plt_log=PLT_LOG, ylim=YLIMS, x_ticks=['Linear Fit', 'FOOOF Fit'],\n",
    "                   save_fig=SAVE_FIG, save_name=pjoin(FOLDER, 'BOSC-1p'))"
   ]
  },
  {
   "cell_type": "code",
   "execution_count": 15,
   "metadata": {},
   "outputs": [
    {
     "name": "stdout",
     "output_type": "stream",
     "text": [
      "Linear fits: \t 0.0450 \t0.0648\n",
      "FOOOF fits: \t 0.0033 \t0.0339\n"
     ]
    }
   ],
   "source": [
    "# Check descriptive stats of the errors\n",
    "print('Linear fits: \\t {:1.4f} \\t{:1.4f}'.format(\\\n",
    "    avg_func(lin_errs_1p), np.std(lin_errs_1p)))\n",
    "print('FOOOF fits: \\t {:1.4f} \\t{:1.4f}'.format(\\\n",
    "    avg_func(foo_errs_1p), np.std(foo_errs_1p)))"
   ]
  },
  {
   "cell_type": "code",
   "execution_count": 16,
   "metadata": {},
   "outputs": [
    {
     "name": "stdout",
     "output_type": "stream",
     "text": [
      "T-test: 53.85739, 1.0803284578196822e-297\n"
     ]
    }
   ],
   "source": [
    "# Check t-test comparison\n",
    "t_val, p_val = ttest_rel(np.log10(lin_errs_1p), np.log10(foo_errs_1p))\n",
    "print('T-test: {:1.5f}, {}'.format(t_val, p_val))"
   ]
  },
  {
   "cell_type": "code",
   "execution_count": 17,
   "metadata": {},
   "outputs": [
    {
     "name": "stdout",
     "output_type": "stream",
     "text": [
      "Cohens-D: 1.5816\n"
     ]
    }
   ],
   "source": [
    "# Check cohens-d effect size\n",
    "print('Cohens-D: {:1.4f}'.format(\\\n",
    "    cohens_d(np.log10(lin_errs_1p), np.log10(foo_errs_1p))))"
   ]
  },
  {
   "cell_type": "markdown",
   "metadata": {},
   "source": [
    "## Sims: Multi-Peak\n",
    "\n",
    "Simulations testing FOOOF vs. the BOSC linear fit, with multiple peaks across a low frequency range (no knee)."
   ]
  },
  {
   "cell_type": "code",
   "execution_count": 18,
   "metadata": {},
   "outputs": [
    {
     "name": "stdout",
     "output_type": "stream",
     "text": [
      "n_spectra, n_freqs :  (1000, 153)\n"
     ]
    }
   ],
   "source": [
    "# Generate or load power spectra\n",
    "data_name = 'comp_bosc_mp'\n",
    "\n",
    "if GEN_SIMS:\n",
    "    \n",
    "    # Use generators to sample peak & aperiodic parameters\n",
    "    aps = gen_ap_def()\n",
    "    peaks = gen_peak_def(3)\n",
    "\n",
    "    # Generate simulated power spectra\n",
    "    freqs, psds, sim_params = \\\n",
    "        gen_group_power_spectra(n_psds, F_RANGE, aps, peaks, NLV,\n",
    "                                F_RES, return_params=True)\n",
    "    \n",
    "    # Save out generated simulated data & parameter definitions\n",
    "    if SAVE_SIMS:\n",
    "        save_sim_data(data_name, FOLDER, freqs, psds, sim_params)\n",
    "\n",
    "else:\n",
    "    # Reload simulated data and parameter definitions\n",
    "    freqs, psds, sim_params = load_sim_data(data_name, FOLDER)\n",
    "        \n",
    "# Check shape\n",
    "print('n_spectra, n_freqs : ', psds.shape)"
   ]
  },
  {
   "cell_type": "code",
   "execution_count": 19,
   "metadata": {},
   "outputs": [],
   "source": [
    "# Calculate error of each method for exponent reconstructions\n",
    "lin_errs_mp = fit_all_lin(freqs, psds, sim_params)\n",
    "foo_errs_mp = fit_all_fooof(freqs, psds, sim_params)\n",
    "\n",
    "# Collect errors together, for plotting\n",
    "errs_mp = np.array([lin_errs_mp, foo_errs_mp])"
   ]
  },
  {
   "cell_type": "code",
   "execution_count": 20,
   "metadata": {},
   "outputs": [
    {
     "data": {
      "image/png": "[encoded data removed]",
      "text/plain": [
       "<Figure size 576x432 with 1 Axes>"
      ]
     },
     "metadata": {},
     "output_type": "display_data"
    }
   ],
   "source": [
    "# Plot the error of peak center frequency reconstruction\n",
    "plot_errors_violin(errs_mp, 'BOSC-MP', x_axis=None,\n",
    "                   plt_log=PLT_LOG, ylim=YLIMS, x_ticks=['Linear Fit', 'FOOOF Fit'],\n",
    "                   save_fig=SAVE_FIG, save_name=pjoin(FOLDER, 'BOSC-mp'))"
   ]
  },
  {
   "cell_type": "code",
   "execution_count": 21,
   "metadata": {},
   "outputs": [
    {
     "name": "stdout",
     "output_type": "stream",
     "text": [
      "Linear fits: \t 0.1015 \t0.1026\n",
      "FOOOF fits: \t 0.0264 \t0.0643\n"
     ]
    }
   ],
   "source": [
    "# Check descriptive stats of the errors\n",
    "print('Linear fits: \\t {:1.4f} \\t{:1.4f}'.format(\\\n",
    "    avg_func(lin_errs_mp), np.std(lin_errs_mp)))\n",
    "print('FOOOF fits: \\t {:1.4f} \\t{:1.4f}'.format(\\\n",
    "    avg_func(foo_errs_mp), np.std(foo_errs_mp)))"
   ]
  },
  {
   "cell_type": "code",
   "execution_count": 22,
   "metadata": {},
   "outputs": [
    {
     "name": "stdout",
     "output_type": "stream",
     "text": [
      "T-test: 37.21738, 6.699020820278955e-191\n"
     ]
    }
   ],
   "source": [
    "# Check t-test comparison\n",
    "t_val, p_val = ttest_rel(np.log10(lin_errs_mp), np.log10(foo_errs_mp))\n",
    "print('T-test: {:1.5f}, {}'.format(t_val, p_val))"
   ]
  },
  {
   "cell_type": "code",
   "execution_count": 23,
   "metadata": {},
   "outputs": [
    {
     "name": "stdout",
     "output_type": "stream",
     "text": [
      "Cohens-D: 0.9459\n"
     ]
    }
   ],
   "source": [
    "# Check cohens-d effect size\n",
    "print('Cohens-D: {:1.4f}'.format(\\\n",
    "    cohens_d(np.log10(lin_errs_mp), np.log10(foo_errs_mp))))"
   ]
  },
  {
   "cell_type": "markdown",
   "metadata": {},
   "source": [
    "## Sims: Broad Range + Knee\n",
    "\n",
    "Simulations testing FOOOF vs. the BOSC linear fit, with two peaks across a broad frequency range, with a knee."
   ]
  },
  {
   "cell_type": "code",
   "execution_count": 24,
   "metadata": {},
   "outputs": [
    {
     "name": "stdout",
     "output_type": "stream",
     "text": [
      "n_spectra, n_freqs :  (1000, 299)\n"
     ]
    }
   ],
   "source": [
    "# Generate or load power spectra\n",
    "data_name = 'comp_bosc_kn'\n",
    "\n",
    "if GEN_SIMS:\n",
    "    \n",
    "    # Use generators to sample peak & aperiodic parameters\n",
    "    aps = gen_ap_knee_def()\n",
    "    peaks = gen_peaks_both()\n",
    "\n",
    "    # Generate simulated power spectra\n",
    "    freqs, psds, sim_params = \\\n",
    "        gen_group_power_spectra(n_psds, F_RANGE_LONG, aps, peaks, NLV,\n",
    "                                F_RES_LONG, return_params=True)\n",
    "    \n",
    "    # Save out generated simulated data & parameter definitions\n",
    "    if SAVE_SIMS:\n",
    "        save_sim_data(data_name, FOLDER, freqs, psds, sim_params)\n",
    "\n",
    "else:\n",
    "    # Reload simulated data and parameter definitions\n",
    "    freqs, psds, sim_params = load_sim_data(data_name, FOLDER)\n",
    "        \n",
    "# Check shape\n",
    "print('n_spectra, n_freqs : ', psds.shape)"
   ]
  },
  {
   "cell_type": "code",
   "execution_count": 25,
   "metadata": {},
   "outputs": [],
   "source": [
    "# Calculate error of each method for exponent reconstructions\n",
    "lin_errs_kn = fit_all_lin(freqs, psds, sim_params, knee=True)\n",
    "foo_errs_kn = fit_all_fooof(freqs, psds, sim_params, knee=True)\n",
    "\n",
    "# Collect errors together, for plotting\n",
    "errs_kn = np.array([lin_errs_kn, foo_errs_kn])"
   ]
  },
  {
   "cell_type": "code",
   "execution_count": 26,
   "metadata": {},
   "outputs": [
    {
     "data": {
      "image/png": "[encoded data removed]",
      "text/plain": [
       "<Figure size 576x432 with 1 Axes>"
      ]
     },
     "metadata": {},
     "output_type": "display_data"
    }
   ],
   "source": [
    "# Plot the error of peak center frequency reconstruction\n",
    "plot_errors_violin(errs_kn, 'BOSC-KN', x_axis=None,\n",
    "                   plt_log=PLT_LOG, ylim=YLIMS, x_ticks=['Linear Fit', 'FOOOF Fit'],\n",
    "                   save_fig=SAVE_FIG, save_name=pjoin(FOLDER, 'BOSC-kn'))"
   ]
  },
  {
   "cell_type": "code",
   "execution_count": 27,
   "metadata": {},
   "outputs": [
    {
     "name": "stdout",
     "output_type": "stream",
     "text": [
      "Linear fits: \t 0.3771 \t0.2363\n",
      "FOOOF fits: \t 0.0055 \t0.0653\n"
     ]
    }
   ],
   "source": [
    "# Check descriptive stats of the errors\n",
    "print('Linear fits: \\t {:1.4f} \\t{:1.4f}'.format(\\\n",
    "    avg_func(lin_errs_kn), np.std(lin_errs_kn)))\n",
    "print('FOOOF fits: \\t {:1.4f} \\t{:1.4f}'.format(\\\n",
    "    avg_func(foo_errs_kn), np.std(foo_errs_kn)))"
   ]
  },
  {
   "cell_type": "code",
   "execution_count": 28,
   "metadata": {},
   "outputs": [
    {
     "name": "stdout",
     "output_type": "stream",
     "text": [
      "T-test: 62.47357, 0.0\n"
     ]
    }
   ],
   "source": [
    "# Check t-test comparison\n",
    "t_val, p_val = ttest_rel(np.log10(lin_errs_kn), np.log10(foo_errs_kn))\n",
    "print('T-test: {:1.5f}, {}'.format(t_val, p_val))"
   ]
  },
  {
   "cell_type": "code",
   "execution_count": 29,
   "metadata": {},
   "outputs": [
    {
     "name": "stdout",
     "output_type": "stream",
     "text": [
      "Cohens-D: 2.3013\n"
     ]
    }
   ],
   "source": [
    "# Check cohens-d effect size\n",
    "print('Cohens-D: {:1.4f}'.format(\\\n",
    "    cohens_d(np.log10(lin_errs_kn), np.log10(foo_errs_kn))))"
   ]
  }
 ],
 "metadata": {
  "kernelspec": {
   "display_name": "Python 3",
   "language": "python",
   "name": "python3"
  },
  "language_info": {
   "codemirror_mode": {
    "name": "ipython",
    "version": 3
   },
   "file_extension": ".py",
   "mimetype": "text/x-python",
   "name": "python",
   "nbconvert_exporter": "python",
   "pygments_lexer": "ipython3",
   "version": "3.7.4"
  }
 },
 "nbformat": 4,
 "nbformat_minor": 4
}
