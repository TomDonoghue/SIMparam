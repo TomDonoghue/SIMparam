{
 "cells": [
  {
   "cell_type": "markdown",
   "metadata": {},
   "source": [
    "# Method Comparisons: BOSC\n",
    "\n",
    "Comparing FOOOF to other related methods.\n",
    "\n",
    "This notebook compares FOOOF to [BOSC](https://www.sciencedirect.com/science/article/abs/pii/S1053811910011614), \n",
    "the 'Better Oscillation Detector'. \n",
    "\n",
    "Note that FOOOF and BOSC are related in the sense that both use a measure of aperiodic activity to isolate periodic activity, but otherwise they are overall fundamentally fairly different. Notably, BOSC uses an aperiodic measure as a threshold to attempt to measure the relative power of oscillations in the time domain, whereas FOOOF operates in the frequency domain. In this notebook we will compare FOOOF to the aperiodic measure that BOSC uses - a linear fit in log-log space, as this is the most direct comparison that can be made.  \n"
   ]
  },
  {
   "cell_type": "code",
   "execution_count": 1,
   "metadata": {},
   "outputs": [],
   "source": [
    "%matplotlib inline"
   ]
  },
  {
   "cell_type": "code",
   "execution_count": 2,
   "metadata": {},
   "outputs": [],
   "source": [
    "from os.path import join as pjoin\n",
    "\n",
    "import numpy as np\n",
    "from scipy.stats import ttest_rel\n",
    "\n",
    "from fooof import FOOOF\n",
    "from fooof.sim import gen_group_power_spectra\n",
    "from fooof.sim.utils import set_random_seed"
   ]
  },
  {
   "cell_type": "code",
   "execution_count": 3,
   "metadata": {},
   "outputs": [],
   "source": [
    "# Import project specific (local) custom code\n",
    "import sys\n",
    "sys.path.append('../code')\n",
    "from plts import plot_errors_violin\n",
    "from sims import gen_peak_def, gen_ap_def, gen_ap_knee_def\n",
    "from utils import save_sim_data, load_sim_data\n",
    "from analysis import cohens_d\n",
    "from settings import *"
   ]
  },
  {
   "cell_type": "markdown",
   "metadata": {},
   "source": [
    "## Settings"
   ]
  },
  {
   "cell_type": "code",
   "execution_count": 4,
   "metadata": {},
   "outputs": [],
   "source": [
    "# Set random seed\n",
    "set_random_seed(303)"
   ]
  },
  {
   "cell_type": "code",
   "execution_count": 5,
   "metadata": {},
   "outputs": [],
   "source": [
    "# Set plotting style from seaborn\n",
    "import seaborn as sns\n",
    "sns.set_style('white')"
   ]
  },
  {
   "cell_type": "code",
   "execution_count": 6,
   "metadata": {},
   "outputs": [],
   "source": [
    "# Set a folder name (for saving data & figures)\n",
    "FOLDER = '07_comp-bosc/'"
   ]
  },
  {
   "cell_type": "code",
   "execution_count": 7,
   "metadata": {},
   "outputs": [],
   "source": [
    "# Run Settings\n",
    "GEN_SIMS = True\n",
    "SAVE_SIMS = True\n",
    "SAVE_FIG = True\n",
    "PLT_LOG = True"
   ]
  },
  {
   "cell_type": "code",
   "execution_count": 8,
   "metadata": {},
   "outputs": [],
   "source": [
    "# Data settings\n",
    "n_psds = 1000\n",
    "nlv = 0.005"
   ]
  },
  {
   "cell_type": "markdown",
   "metadata": {},
   "source": [
    "## Helper Functions"
   ]
  },
  {
   "cell_type": "code",
   "execution_count": 9,
   "metadata": {},
   "outputs": [],
   "source": [
    "# Fixed fit function\n",
    "from scipy.optimize import curve_fit\n",
    "from fooof.core.funcs import linear_function\n",
    "def fit_ap_ln(freqs, psd_ap):\n",
    "    \"\"\"Fit an aperiodic component with a linear function.\"\"\"\n",
    "    popt, _ = curve_fit(linear_function, np.log10(freqs), np.log10(psd_ap), p0=[0, 0])\n",
    "    return popt[0], popt[1]"
   ]
  },
  {
   "cell_type": "code",
   "execution_count": 10,
   "metadata": {},
   "outputs": [],
   "source": [
    "def fit_all_lin(psds, sim_params, knee=False):\n",
    "    \"\"\"Fit and compute error with a linear fit.\"\"\"\n",
    "\n",
    "    ind = 2 if knee else 1\n",
    "    \n",
    "    errs = []\n",
    "    for psd, params in zip(psds, sim_params):\n",
    "        off, exp = fit_ap_ln(freqs, psd)\n",
    "        errs.append(np.abs(-exp - params.aperiodic_params[ind]))\n",
    "    return errs\n",
    "\n",
    "\n",
    "def fit_all_fooof(psds, sim_params, knee=False):\n",
    "    \"\"\"Fit and compute error with FOOOF.\"\"\"\n",
    "\n",
    "    settings = FOOOF_SETTINGS_KNEE if knee else FOOOF_SETTINGS\n",
    "    ind = 2 if knee else 1\n",
    "    fm = FOOOF(*settings, verbose=False)\n",
    "    \n",
    "    errs = []\n",
    "    for psd, params in zip(psds, sim_params):\n",
    "        fm.fit(freqs, psd)\n",
    "        errs.append(np.abs(fm.aperiodic_params_[ind] - params.aperiodic_params[ind]))\n",
    "    return errs"
   ]
  },
  {
   "cell_type": "markdown",
   "metadata": {},
   "source": [
    "## 1 Peak"
   ]
  },
  {
   "cell_type": "code",
   "execution_count": 11,
   "metadata": {},
   "outputs": [],
   "source": [
    "# Use generators to sample peak & aperiodic parameters\n",
    "peaks = gen_peak_def(1)\n",
    "aps = gen_ap_def()"
   ]
  },
  {
   "cell_type": "code",
   "execution_count": 12,
   "metadata": {},
   "outputs": [
    {
     "name": "stdout",
     "output_type": "stream",
     "text": [
      "n_spectra, n_freqs :  (1000, 153)\n"
     ]
    }
   ],
   "source": [
    "# Generate or load power spectra\n",
    "data_name = 'comp_bosc_1p'\n",
    "\n",
    "if GEN_SIMS:\n",
    "    \n",
    "    # Generate simulated power spectra\n",
    "    freqs, psds, sim_params = \\\n",
    "            gen_group_power_spectra(n_psds, F_RANGE, aps, peaks, nlv,\n",
    "                                    F_RES, return_params=True)\n",
    "    \n",
    "    # Save out generated simulated data & parameter definitions\n",
    "    if SAVE_SIMS:\n",
    "        save_sim_data(data_name, FOLDER, freqs, psds, sim_params)\n",
    "\n",
    "else:\n",
    "    # Reload simulated data and parameter definitions\n",
    "    freqs, psds, sim_params = load_sim_data(data_name, FOLDER)\n",
    "        \n",
    "# Check shape\n",
    "print('n_spectra, n_freqs : ', psds.shape)"
   ]
  },
  {
   "cell_type": "code",
   "execution_count": 13,
   "metadata": {},
   "outputs": [],
   "source": [
    "#\n",
    "lin_errs_1p = fit_all_lin(psds, sim_params)\n",
    "foo_errs_1p = fit_all_fooof(psds, sim_params)\n",
    "\n",
    "errs_1p = np.array([lin_errs_1p, foo_errs_1p])"
   ]
  },
  {
   "cell_type": "code",
   "execution_count": 14,
   "metadata": {},
   "outputs": [
    {
     "data": {
      "image/png": "[encoded data removed]",
      "text/plain": [
       "<Figure size 576x432 with 1 Axes>"
      ]
     },
     "metadata": {},
     "output_type": "display_data"
    }
   ],
   "source": [
    "# Plot the error of peak center frequency reconstruction\n",
    "plot_errors_violin(errs_1p, 'BOSC-1P', x_axis=None,\n",
    "                   plt_log=PLT_LOG, ylim=YLIMS_AP, x_ticks=['Linear Fit', 'FOOOF Fit'],\n",
    "                   save_fig=SAVE_FIG, save_name=pjoin(FOLDER, 'BOSC-1p'))"
   ]
  },
  {
   "cell_type": "code",
   "execution_count": 15,
   "metadata": {},
   "outputs": [
    {
     "name": "stdout",
     "output_type": "stream",
     "text": [
      "Linear fits: \t 0.0641 \t0.0645\n",
      "FOOOF fits: \t 0.0131 \t0.0310\n"
     ]
    }
   ],
   "source": [
    "# Check mean and standard deviation of the errors\n",
    "print('Linear fits: \\t {:1.4f} \\t{:1.4f}'.format(\\\n",
    "    np.mean(lin_errs_1p), np.std(lin_errs_1p)))\n",
    "print('FOOOF fits: \\t {:1.4f} \\t{:1.4f}'.format(\\\n",
    "    np.mean(foo_errs_1p), np.std(foo_errs_1p)))"
   ]
  },
  {
   "cell_type": "code",
   "execution_count": 16,
   "metadata": {},
   "outputs": [
    {
     "name": "stdout",
     "output_type": "stream",
     "text": [
      "T-test: 37.66103, 6.63914330655583e-194\n"
     ]
    }
   ],
   "source": [
    "# Check t-test comparison\n",
    "t_val, p_val = ttest_rel(lin_errs_1p, foo_errs_1p)\n",
    "print('T-test: {:1.5f}, {}'.format(t_val, p_val))"
   ]
  },
  {
   "cell_type": "code",
   "execution_count": 17,
   "metadata": {},
   "outputs": [
    {
     "name": "stdout",
     "output_type": "stream",
     "text": [
      "Cohens-D: 1.0097\n"
     ]
    }
   ],
   "source": [
    "# Check cohens-d effect size\n",
    "print('Cohens-D: {:1.4f}'.format(cohens_d(lin_errs_1p, foo_errs_1p)))"
   ]
  },
  {
   "cell_type": "markdown",
   "metadata": {},
   "source": [
    "## Multi-Peak"
   ]
  },
  {
   "cell_type": "code",
   "execution_count": 18,
   "metadata": {},
   "outputs": [],
   "source": [
    "# Use generators to sample peak & aperiodic parameters\n",
    "peaks = gen_peak_def(3)\n",
    "aps = gen_ap_def()"
   ]
  },
  {
   "cell_type": "code",
   "execution_count": 19,
   "metadata": {},
   "outputs": [
    {
     "name": "stdout",
     "output_type": "stream",
     "text": [
      "n_spectra, n_freqs :  (1000, 153)\n"
     ]
    }
   ],
   "source": [
    "# Generate or load power spectra\n",
    "data_name = 'comp_bosc_mp'\n",
    "\n",
    "if GEN_SIMS:\n",
    "\n",
    "    # Generate simulated power spectra\n",
    "    freqs, psds, sim_params = \\\n",
    "            gen_group_power_spectra(n_psds, F_RANGE, aps, peaks, nlv,\n",
    "                                    F_RES, return_params=True)\n",
    "    \n",
    "    # Save out generated simulated data & parameter definitions\n",
    "    if SAVE_SIMS:\n",
    "        save_sim_data(data_name, FOLDER, freqs, psds, sim_params)\n",
    "\n",
    "else:\n",
    "    # Reload simulated data and parameter definitions\n",
    "    freqs, psds, sim_params = load_sim_data(data_name, FOLDER)\n",
    "        \n",
    "# Check shape\n",
    "print('n_spectra, n_freqs : ', psds.shape)"
   ]
  },
  {
   "cell_type": "code",
   "execution_count": 20,
   "metadata": {},
   "outputs": [],
   "source": [
    "#\n",
    "lin_errs_mp = fit_all_lin(psds, sim_params)\n",
    "foo_errs_mp = fit_all_fooof(psds, sim_params)\n",
    "\n",
    "errs_mp = np.array([lin_errs_mp, foo_errs_mp])"
   ]
  },
  {
   "cell_type": "code",
   "execution_count": 21,
   "metadata": {},
   "outputs": [
    {
     "data": {
      "image/png": "[encoded data removed]",
      "text/plain": [
       "<Figure size 576x432 with 1 Axes>"
      ]
     },
     "metadata": {},
     "output_type": "display_data"
    }
   ],
   "source": [
    "# Plot the error of peak center frequency reconstruction\n",
    "plot_errors_violin(errs_mp, 'BOSC-MP', x_axis=None,\n",
    "                   plt_log=PLT_LOG, ylim=YLIMS_AP, x_ticks=['Linear Fit', 'FOOOF Fit'],\n",
    "                   save_fig=SAVE_FIG, save_name=pjoin(FOLDER, 'BOSC-mp'))"
   ]
  },
  {
   "cell_type": "code",
   "execution_count": 22,
   "metadata": {},
   "outputs": [
    {
     "name": "stdout",
     "output_type": "stream",
     "text": [
      "Linear fits: \t 0.1152 \t0.0974\n",
      "FOOOF fits: \t 0.0514 \t0.0625\n"
     ]
    }
   ],
   "source": [
    "# Check mean and standard deviation of the errors\n",
    "print('Linear fits: \\t {:1.4f} \\t{:1.4f}'.format(\\\n",
    "    np.mean(lin_errs_mp), np.std(lin_errs_mp)))\n",
    "print('FOOOF fits: \\t {:1.4f} \\t{:1.4f}'.format(\\\n",
    "    np.mean(foo_errs_mp), np.std(foo_errs_mp)))"
   ]
  },
  {
   "cell_type": "code",
   "execution_count": 23,
   "metadata": {},
   "outputs": [
    {
     "name": "stdout",
     "output_type": "stream",
     "text": [
      "T-test: 33.53949, 8.307323720250694e-166\n"
     ]
    }
   ],
   "source": [
    "# Check t-test comparison\n",
    "t_val, p_val = ttest_rel(lin_errs_mp, foo_errs_mp)\n",
    "print('T-test: {:1.5f}, {}'.format(t_val, p_val))"
   ]
  },
  {
   "cell_type": "code",
   "execution_count": 24,
   "metadata": {},
   "outputs": [
    {
     "name": "stdout",
     "output_type": "stream",
     "text": [
      "Cohens-D: 0.7800\n"
     ]
    }
   ],
   "source": [
    "# Check cohens-d effect size\n",
    "print('Cohens-D: {:1.4f}'.format(cohens_d(lin_errs_mp, foo_errs_mp)))"
   ]
  },
  {
   "cell_type": "markdown",
   "metadata": {},
   "source": [
    "## Knee"
   ]
  },
  {
   "cell_type": "code",
   "execution_count": 25,
   "metadata": {},
   "outputs": [],
   "source": [
    "# Use generators to sample peak & aperiodic parameters\n",
    "peaks = gen_peak_def(1)\n",
    "aps = gen_ap_knee_def()"
   ]
  },
  {
   "cell_type": "code",
   "execution_count": 26,
   "metadata": {},
   "outputs": [
    {
     "name": "stdout",
     "output_type": "stream",
     "text": [
      "n_spectra, n_freqs :  (1000, 199)\n"
     ]
    }
   ],
   "source": [
    "# Generate or load power spectra\n",
    "data_name = 'comp_bosc_kn'\n",
    "\n",
    "if GEN_SIMS:\n",
    "\n",
    "    # Generate simulated power spectra\n",
    "    freqs, psds, sim_params = \\\n",
    "            gen_group_power_spectra(n_psds, F_RANGE_LONG, aps, peaks, nlv,\n",
    "                                    F_RES_LONG, return_params=True)\n",
    "    \n",
    "    # Save out generated simulated data & parameter definitions\n",
    "    if SAVE_SIMS:\n",
    "        save_sim_data(data_name, FOLDER, freqs, psds, sim_params)\n",
    "\n",
    "else:\n",
    "    # Reload simulated data and parameter definitions\n",
    "    freqs, psds, sim_params = load_sim_data(data_name, FOLDER)\n",
    "        \n",
    "# Check shape\n",
    "print('n_spectra, n_freqs : ', psds.shape)"
   ]
  },
  {
   "cell_type": "code",
   "execution_count": 27,
   "metadata": {},
   "outputs": [],
   "source": [
    "#\n",
    "lin_errs_kn = fit_all_lin(psds, sim_params, knee=True)\n",
    "foo_errs_kn = fit_all_fooof(psds, sim_params, knee=True)\n",
    "\n",
    "errs_kn = np.array([lin_errs_kn, foo_errs_kn])"
   ]
  },
  {
   "cell_type": "code",
   "execution_count": 28,
   "metadata": {},
   "outputs": [
    {
     "data": {
      "image/png": "[encoded data removed]",
      "text/plain": [
       "<Figure size 576x432 with 1 Axes>"
      ]
     },
     "metadata": {},
     "output_type": "display_data"
    }
   ],
   "source": [
    "# Plot the error of peak center frequency reconstruction\n",
    "plot_errors_violin(errs_kn, 'BOSC-KN', x_axis=None,\n",
    "                   plt_log=PLT_LOG, ylim=YLIMS_AP, x_ticks=['Linear Fit', 'FOOOF Fit'],\n",
    "                   save_fig=SAVE_FIG, save_name=pjoin(FOLDER, 'BOSC-kn'))"
   ]
  },
  {
   "cell_type": "code",
   "execution_count": 29,
   "metadata": {},
   "outputs": [
    {
     "name": "stdout",
     "output_type": "stream",
     "text": [
      "Linear fits: \t 0.4078 \t0.2591\n",
      "FOOOF fits: \t 0.0302 \t0.0721\n"
     ]
    }
   ],
   "source": [
    "# Check mean and standard deviation of the errors\n",
    "print('Linear fits: \\t {:1.4f} \\t{:1.4f}'.format(\\\n",
    "    np.mean(lin_errs_kn), np.std(lin_errs_kn)))\n",
    "print('FOOOF fits: \\t {:1.4f} \\t{:1.4f}'.format(\\\n",
    "    np.mean(foo_errs_kn), np.std(foo_errs_kn)))"
   ]
  },
  {
   "cell_type": "code",
   "execution_count": 30,
   "metadata": {},
   "outputs": [
    {
     "name": "stdout",
     "output_type": "stream",
     "text": [
      "T-test: 45.77963, 1.5857891996118487e-247\n"
     ]
    }
   ],
   "source": [
    "# Check t-test comparison\n",
    "t_val, p_val = ttest_rel(lin_errs_kn, foo_errs_kn)\n",
    "print('T-test: {:1.5f}, {}'.format(t_val, p_val))"
   ]
  },
  {
   "cell_type": "code",
   "execution_count": 31,
   "metadata": {},
   "outputs": [
    {
     "name": "stdout",
     "output_type": "stream",
     "text": [
      "Cohens-D: 1.9856\n"
     ]
    }
   ],
   "source": [
    "# Check cohens-d effect size\n",
    "print('Cohens-D: {:1.4f}'.format(cohens_d(lin_errs_kn, foo_errs_kn)))"
   ]
  }
 ],
 "metadata": {
  "kernelspec": {
   "display_name": "Python 3",
   "language": "python",
   "name": "python3"
  },
  "language_info": {
   "codemirror_mode": {
    "name": "ipython",
    "version": 3
   },
   "file_extension": ".py",
   "mimetype": "text/x-python",
   "name": "python",
   "nbconvert_exporter": "python",
   "pygments_lexer": "ipython3",
   "version": "3.7.4"
  }
 },
 "nbformat": 4,
 "nbformat_minor": 4
}
